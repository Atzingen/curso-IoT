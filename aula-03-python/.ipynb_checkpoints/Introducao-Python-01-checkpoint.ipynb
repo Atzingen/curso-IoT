{
 "cells": [
  {
   "cell_type": "markdown",
   "metadata": {},
   "source": [
    "# Introdução a linguagem Python (parte 1)\n",
    "\n",
    "Notebook para o curso de IoT - IFSP Piracicaba\n",
    "\n",
    "Gustavo Voltani von Atzingen\n",
    "\n",
    "Python - versão 2.7\n",
    "\n",
    "Este notebook contém uma introdução aos comandos básicos em python.\n",
    "Serão cobertos os seguintes tópicos\n",
    "\n",
    "* Print\n",
    "* Comentários\n",
    "* Atribuição de variáveis e tipos\n",
    "* Trabalhando com strings (parte 1)\n",
    "* Listas (parte 1)\n",
    "* Estruturas de controle (if-elif-else, for, while)\n",
    "* Funções\n",
    "* Utilizando módulos (import)"
   ]
  },
  {
   "cell_type": "markdown",
   "metadata": {},
   "source": [
    "### <i>Print</i>"
   ]
  },
  {
   "cell_type": "markdown",
   "metadata": {},
   "source": [
    "Para se \"imprimir\" algum texto na tela, o python (versão 2.7) possui uma palavra reservada, chamada <i>print</i>. "
   ]
  },
  {
   "cell_type": "code",
   "execution_count": 73,
   "metadata": {
    "collapsed": false
   },
   "outputs": [
    {
     "name": "stdout",
     "output_type": "stream",
     "text": [
      "Hello Python 2.7 !\n"
     ]
    }
   ],
   "source": [
    "print \"Hello Python 2.7 !\""
   ]
  },
  {
   "cell_type": "markdown",
   "metadata": {},
   "source": [
    "Também podemos imprimir várias strings ou numeros, separando-os por ','"
   ]
  },
  {
   "cell_type": "code",
   "execution_count": 74,
   "metadata": {
    "collapsed": false
   },
   "outputs": [
    {
     "name": "stdout",
     "output_type": "stream",
     "text": [
      "Parte 1 -   A resposta é:  42\n"
     ]
    }
   ],
   "source": [
    "print 'Parte 1 - ', ' A resposta é: ', 42"
   ]
  },
  {
   "cell_type": "markdown",
   "metadata": {},
   "source": [
    "Podemos inserir variáveis (núméricas) no meio do texto utilizando o método <i>.format</i>"
   ]
  },
  {
   "cell_type": "code",
   "execution_count": 75,
   "metadata": {
    "collapsed": false
   },
   "outputs": [
    {
     "name": "stdout",
     "output_type": "stream",
     "text": [
      "O valor da leitura dos sensores são 4.2Votls e 1.68Volts\n"
     ]
    }
   ],
   "source": [
    "print 'O valor da leitura dos sensores são {}Votls e {}Volts'.format(4.2, 1.68)"
   ]
  },
  {
   "cell_type": "markdown",
   "metadata": {},
   "source": [
    "### <i>Comentários</i>\n",
    "\n",
    "Comentários são inseridos no programa utilizando o caracter '#' e com isso toda linha é ignorada pelo interpretador"
   ]
  },
  {
   "cell_type": "code",
   "execution_count": 76,
   "metadata": {
    "collapsed": true
   },
   "outputs": [],
   "source": [
    "# isto é uma linha de comentário"
   ]
  },
  {
   "cell_type": "markdown",
   "metadata": {},
   "source": [
    "Para fazer um bloco de comentário (várias linhas), utiliza-se ''' no início e ''' no final do bloco de comentário"
   ]
  },
  {
   "cell_type": "code",
   "execution_count": 77,
   "metadata": {
    "collapsed": false
   },
   "outputs": [
    {
     "data": {
      "text/plain": [
       "' Isto e um bloco de comentarios\\n\\nTodas as linhas neste bloco sao ignoradas\\npelo interpretador\\n'"
      ]
     },
     "execution_count": 77,
     "metadata": {},
     "output_type": "execute_result"
    }
   ],
   "source": [
    "''' Isto e um bloco de comentarios\n",
    "\n",
    "Todas as linhas neste bloco sao ignoradas\n",
    "pelo interpretador\n",
    "'''"
   ]
  },
  {
   "cell_type": "markdown",
   "metadata": {},
   "source": [
    "### <i> Atribuição de variáveis </i>\n",
    "\n",
    "Em python as variáveis não são explicitamente declaradas. O interpretador faz a atribuição em tempo de execução. \n",
    "Os tipis de estrutura utilizadas pelo interpretador são:\n",
    "* Números (number) - Inteiro ou real\n",
    "* Strings (string)\n",
    "* Listas (list)\n",
    "* Tuplas (tuple)\n",
    "* Dicionários (dictionary)\n"
   ]
  },
  {
   "cell_type": "code",
   "execution_count": 78,
   "metadata": {
    "collapsed": false
   },
   "outputs": [
    {
     "name": "stdout",
     "output_type": "stream",
     "text": [
      "42 1.68 texto\n"
     ]
    }
   ],
   "source": [
    "a = 42       # A variável á recebe um número\n",
    "b = 1.68     # Variável real\n",
    "c = 'texto'  # Texto\n",
    "print a, b, c"
   ]
  },
  {
   "cell_type": "markdown",
   "metadata": {},
   "source": [
    "As variáveis podem alterar o seu tipo durante a execução (runtime)"
   ]
  },
  {
   "cell_type": "code",
   "execution_count": 79,
   "metadata": {
    "collapsed": false
   },
   "outputs": [
    {
     "name": "stdout",
     "output_type": "stream",
     "text": [
      "valor de a antes:  1.3\n",
      "valor de a depois:  texto\n"
     ]
    }
   ],
   "source": [
    "a = 1.3\n",
    "print 'valor de a antes: ', a\n",
    "a = 'texto'\n",
    "print 'valor de a depois: ', a"
   ]
  },
  {
   "cell_type": "markdown",
   "metadata": {},
   "source": [
    "As variáveis podem sem atribuidas simultaneamente. Isto pode ser feito para simplificar o código e evitar a criação de variáveis temporárias"
   ]
  },
  {
   "cell_type": "code",
   "execution_count": 80,
   "metadata": {
    "collapsed": false
   },
   "outputs": [
    {
     "name": "stdout",
     "output_type": "stream",
     "text": [
      "1 1\n",
      "1 2\n"
     ]
    }
   ],
   "source": [
    "a, b = 1, 1\n",
    "print a, b\n",
    "a, b = b, a + b\n",
    "print a, b"
   ]
  },
  {
   "cell_type": "markdown",
   "metadata": {},
   "source": [
    "### <i> Strings </i>\n",
    "\n",
    "strings podem ser criadas utilizando ' ou \" (aspas simples ou dupla)"
   ]
  },
  {
   "cell_type": "code",
   "execution_count": 81,
   "metadata": {
    "collapsed": true
   },
   "outputs": [],
   "source": [
    "nome = 'Gustavo'     # Isto é uma string\n",
    "nome = \"Joao\"        # Isto também é uma string\n",
    "letra = 'a'          # Strings também podem ter um único caracter"
   ]
  },
  {
   "cell_type": "markdown",
   "metadata": {},
   "source": [
    "Podemos utilizar a indexação para acessar elementos da string ou partes dela"
   ]
  },
  {
   "cell_type": "code",
   "execution_count": 82,
   "metadata": {
    "collapsed": false
   },
   "outputs": [
    {
     "name": "stdout",
     "output_type": "stream",
     "text": [
      "G u V\n"
     ]
    }
   ],
   "source": [
    "nome = 'Gustavo Voltani von Atzingen'\n",
    "print nome[0], nome[1], nome[8]  # A indexação começa em zero e segue até o ultimo valor"
   ]
  },
  {
   "cell_type": "code",
   "execution_count": 83,
   "metadata": {
    "collapsed": false
   },
   "outputs": [
    {
     "name": "stdout",
     "output_type": "stream",
     "text": [
      "n e\n"
     ]
    }
   ],
   "source": [
    "nome = 'Gustavo Voltani von Atzingen'\n",
    "print nome[-1], nome[-2] # Também existe a indexação do fim para o início com \n",
    "                         #números negativos iniciando em 1"
   ]
  },
  {
   "cell_type": "code",
   "execution_count": 84,
   "metadata": {
    "collapsed": false
   },
   "outputs": [
    {
     "name": "stdout",
     "output_type": "stream",
     "text": [
      "Voltani\n",
      "Atzingen\n",
      "Gustavo\n"
     ]
    }
   ],
   "source": [
    "nome = 'Gustavo Voltani von Atzingen'\n",
    "print nome[8:15]    # Podemos pegar parte da string desta forma\n",
    "print nome[20:]     # Da osição 20 até o final\n",
    "print nome[:7]      # Do início até a posição 6 "
   ]
  },
  {
   "cell_type": "markdown",
   "metadata": {},
   "source": [
    "Existes vários métodos que podem ser aplicados na string. O método <i>split</i> divide a string em um caracter especificado. Outros métidis serão abordados em aulas posteriores. "
   ]
  },
  {
   "cell_type": "code",
   "execution_count": 85,
   "metadata": {
    "collapsed": false
   },
   "outputs": [
    {
     "name": "stdout",
     "output_type": "stream",
     "text": [
      "['Gustavo', 'Voltani', 'von', 'Atzingen']\n"
     ]
    }
   ],
   "source": [
    "nome = 'Gustavo Voltani von Atzingen'\n",
    "print nome.split(' ') # separando o nome pelo espaço em branco"
   ]
  },
  {
   "cell_type": "markdown",
   "metadata": {},
   "source": [
    "### <i> Listas </i>\n",
    "\n",
    "Listas são sequencias ordenadas de objetos (que podem ser strings, numeros, listas ou outros)"
   ]
  },
  {
   "cell_type": "code",
   "execution_count": 86,
   "metadata": {
    "collapsed": false
   },
   "outputs": [
    {
     "name": "stdout",
     "output_type": "stream",
     "text": [
      "['texto1', 'texto2', 'texto3', 'texto4']\n"
     ]
    }
   ],
   "source": [
    "lista = ['texto1', 'texto2', 'texto3', 'texto4']\n",
    "print lista"
   ]
  },
  {
   "cell_type": "code",
   "execution_count": 87,
   "metadata": {
    "collapsed": false
   },
   "outputs": [
    {
     "name": "stdout",
     "output_type": "stream",
     "text": [
      "[42, 'texto2', 1.68, 'texto4']\n"
     ]
    }
   ],
   "source": [
    " # também podemos ter vários tipos na mesma lista\n",
    "lista = [42, 'texto2', 1.68, 'texto4']\n",
    "print lista"
   ]
  },
  {
   "cell_type": "code",
   "execution_count": 88,
   "metadata": {
    "collapsed": false
   },
   "outputs": [
    {
     "name": "stdout",
     "output_type": "stream",
     "text": [
      "[[42, 54, 1.7], 'texto2', 1.68, 'texto4']\n"
     ]
    }
   ],
   "source": [
    "# também podemos ter uma lista dentro de outra\n",
    "lista = [ [42, 54, 1.7], 'texto2', 1.68, 'texto4'] \n",
    "print lista "
   ]
  },
  {
   "cell_type": "code",
   "execution_count": 89,
   "metadata": {
    "collapsed": false
   },
   "outputs": [
    {
     "name": "stdout",
     "output_type": "stream",
     "text": [
      "42 34 [78, 1, 91]\n"
     ]
    }
   ],
   "source": [
    "# A lista também é indexada e pode ser buscada da mesma forma que\n",
    "# foi feito com as strings\n",
    "lista = [42, 34, 78, 1, 91, 1, 34]\n",
    "print lista[0], lista[-1], lista[2:5]"
   ]
  },
  {
   "cell_type": "markdown",
   "metadata": {},
   "source": [
    "### <i> Estruturas de controle: if </i>"
   ]
  },
  {
   "cell_type": "code",
   "execution_count": 90,
   "metadata": {
    "collapsed": false
   },
   "outputs": [
    {
     "name": "stdout",
     "output_type": "stream",
     "text": [
      "a é menor que 5 e maior ou igual 3\n"
     ]
    }
   ],
   "source": [
    "a = 4\n",
    "\n",
    "if a < 1:\n",
    "    print 'a é menor que 1'\n",
    "elif a < 3:\n",
    "    print 'a é menor que 3 e maior ou igual 1'\n",
    "elif a < 5:\n",
    "    print 'a é menor que 5 e maior ou igual 3'\n",
    "else:\n",
    "    print 'a é maior= 5'"
   ]
  },
  {
   "cell_type": "markdown",
   "metadata": {},
   "source": [
    "### <i> Estruturas de controle: for </i>\n",
    "\n",
    "for é uma estrutura de controle que vai iterar sobre uma lista ou uma string"
   ]
  },
  {
   "cell_type": "code",
   "execution_count": 91,
   "metadata": {
    "collapsed": false
   },
   "outputs": [
    {
     "name": "stdout",
     "output_type": "stream",
     "text": [
      "g\n",
      "u\n",
      "s\n",
      "t\n",
      "a\n",
      "v\n",
      "o\n"
     ]
    }
   ],
   "source": [
    "nome = 'gustavo'\n",
    "for letra in nome:\n",
    "    print letra"
   ]
  },
  {
   "cell_type": "code",
   "execution_count": 92,
   "metadata": {
    "collapsed": false
   },
   "outputs": [
    {
     "name": "stdout",
     "output_type": "stream",
     "text": [
      "texto1\n",
      "texto2\n",
      "texto3\n",
      "texto4\n"
     ]
    }
   ],
   "source": [
    "lista = ['texto1', 'texto2', 'texto3', 'texto4']\n",
    "for item in lista:\n",
    "    print item"
   ]
  },
  {
   "cell_type": "code",
   "execution_count": 93,
   "metadata": {
    "collapsed": true
   },
   "outputs": [],
   "source": [
    "# Se quisermos fazer uma repetição com contagem numérica, podemos \n",
    "# utilizar a função range() ou outras que serão mostradas futuramente"
   ]
  },
  {
   "cell_type": "code",
   "execution_count": 94,
   "metadata": {
    "collapsed": false
   },
   "outputs": [
    {
     "name": "stdout",
     "output_type": "stream",
     "text": [
      "0\n",
      "1\n",
      "2\n",
      "3\n",
      "4\n",
      "5\n",
      "6\n",
      "7\n",
      "8\n",
      "9\n"
     ]
    }
   ],
   "source": [
    "# Mostra os números de 0 a 9\n",
    "for i in range(10):\n",
    "    print i"
   ]
  },
  {
   "cell_type": "code",
   "execution_count": 95,
   "metadata": {
    "collapsed": false
   },
   "outputs": [
    {
     "name": "stdout",
     "output_type": "stream",
     "text": [
      "0 texto1\n",
      "1 texto2\n",
      "2 texto3\n",
      "3 texto4\n"
     ]
    }
   ],
   "source": [
    "# se quisermos contar os elementos de uma lista podemos usar a função enumerate\n",
    "lista = ['texto1', 'texto2', 'texto3', 'texto4']\n",
    "for indice, item in enumerate(lista):\n",
    "    print indice, item"
   ]
  },
  {
   "cell_type": "markdown",
   "metadata": {},
   "source": [
    "### <i> Estruturas de while: for </i>\n",
    "\n",
    "Repete até que a condição seja falsa"
   ]
  },
  {
   "cell_type": "code",
   "execution_count": 96,
   "metadata": {
    "collapsed": false
   },
   "outputs": [
    {
     "name": "stdout",
     "output_type": "stream",
     "text": [
      "0\n",
      "1\n",
      "2\n",
      "3\n",
      "4\n"
     ]
    }
   ],
   "source": [
    "contador = 0\n",
    "while contador < 5:\n",
    "    print contador\n",
    "    contador += 1"
   ]
  },
  {
   "cell_type": "markdown",
   "metadata": {},
   "source": [
    "### <i> Funções </i>\n",
    "\n",
    "Funções são escritas com a palavra <i> def </i> e o nome da função, juntamente com \n",
    "os argumentos.\n",
    "Pode retorar (ou não) um ou mais ojbetos. "
   ]
  },
  {
   "cell_type": "code",
   "execution_count": 97,
   "metadata": {
    "collapsed": false
   },
   "outputs": [
    {
     "data": {
      "text/plain": [
       "2"
      ]
     },
     "execution_count": 97,
     "metadata": {},
     "output_type": "execute_result"
    }
   ],
   "source": [
    "def somador(a, b):\n",
    "    return a + a\n",
    "\n",
    "somador(1, 2)"
   ]
  },
  {
   "cell_type": "code",
   "execution_count": 98,
   "metadata": {
    "collapsed": false
   },
   "outputs": [
    {
     "name": "stdout",
     "output_type": "stream",
     "text": [
      "nome1 nome2\n"
     ]
    }
   ],
   "source": [
    "def separa_por_espao(texto):\n",
    "    if ' ' in texto:\n",
    "        return texto.split(' ')\n",
    "    else:\n",
    "        return None\n",
    "    \n",
    "nome1, nome2 = separa_por_espao('nome1 nome2')\n",
    "print nome1, nome2"
   ]
  },
  {
   "cell_type": "code",
   "execution_count": 99,
   "metadata": {
    "collapsed": false
   },
   "outputs": [
    {
     "name": "stdout",
     "output_type": "stream",
     "text": [
      "3\n",
      "2\n"
     ]
    }
   ],
   "source": [
    "# funções podem ter argumentos chave\n",
    "\n",
    "def soma(a, b=1):\n",
    "    return a + b\n",
    "\n",
    "print soma(1,2)\n",
    "print soma(1)"
   ]
  },
  {
   "cell_type": "markdown",
   "metadata": {},
   "source": [
    "### <i> Módulos e importação </i>"
   ]
  },
  {
   "cell_type": "code",
   "execution_count": 100,
   "metadata": {
    "collapsed": false
   },
   "outputs": [
    {
     "name": "stdout",
     "output_type": "stream",
     "text": [
      "16 26 42\n"
     ]
    }
   ],
   "source": [
    "import datetime\n",
    "\n",
    "tempo_atual = datetime.datetime.now()\n",
    "print tempo_atual.hour, tempo_atual.minute, tempo_atual.second"
   ]
  },
  {
   "cell_type": "code",
   "execution_count": 101,
   "metadata": {
    "collapsed": false
   },
   "outputs": [
    {
     "name": "stdout",
     "output_type": "stream",
     "text": [
      "16 26 42\n"
     ]
    }
   ],
   "source": [
    "from datetime import datetime as d\n",
    "\n",
    "tempo_atual = d.now()\n",
    "print tempo_atual.hour, tempo_atual.minute, tempo_atual.second"
   ]
  },
  {
   "cell_type": "code",
   "execution_count": null,
   "metadata": {
    "collapsed": true
   },
   "outputs": [],
   "source": []
  },
  {
   "cell_type": "code",
   "execution_count": null,
   "metadata": {
    "collapsed": true
   },
   "outputs": [],
   "source": []
  },
  {
   "cell_type": "code",
   "execution_count": null,
   "metadata": {
    "collapsed": true
   },
   "outputs": [],
   "source": []
  }
 ],
 "metadata": {
  "kernelspec": {
   "display_name": "Python 2",
   "language": "python",
   "name": "python2"
  },
  "language_info": {
   "codemirror_mode": {
    "name": "ipython",
    "version": 2
   },
   "file_extension": ".py",
   "mimetype": "text/x-python",
   "name": "python",
   "nbconvert_exporter": "python",
   "pygments_lexer": "ipython2",
   "version": "2.7.13"
  }
 },
 "nbformat": 4,
 "nbformat_minor": 2
}
